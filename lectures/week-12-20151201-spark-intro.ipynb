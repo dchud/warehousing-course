{
 "cells": [
  {
   "cell_type": "markdown",
   "metadata": {},
   "source": [
    "# A brief tour of Spark\n",
    "\n",
    "\n",
    "[Apache Spark](http://spark.apache.org/) is \"a fast and general engine for large-scale data processing.\"  It comes from the broader Hadoop ecosystem but can be used in a near-standalone mode, which we'll use here.\n",
    "\n",
    "This is a Jupyter notebook with pySpark enabled.  To enable pySpark, you need to have Spark available, and a file containing something like the following on a path like ```/home/dchud/.ipython/kernels/pyspark/kernel.json```:\n",
    "\n",
    "```\n",
    "{\n",
    " \"display_name\": \"pySpark (Spark 1.5.2)\",\n",
    " \"language\": \"python\",\n",
    " \"argv\": [\n",
    "  \"/Users/dchud/anaconda/bin/python2\",\n",
    "  \"-m\",\n",
    "  \"IPython.kernel\",\n",
    "  \"-f\",\n",
    "  \"{connection_file}\"\n",
    " ],\n",
    " \"env\": {\n",
    "  \"SPARK_HOME\": \"/usr/local/Cellar/apache-spark/1.5.2/libexec\",\n",
    "  \"PYTHONPATH\": \"/usr/local/Cellar/apache-spark/1.5.2/libexec/python/:/usr/local/Cellar/apache-spark/1.5.2/libexec/python/lib/py4j-0.8.2.1-src.zip\",\n",
    "  \"PYTHONSTARTUP\": \"/usr/local/Cellar/apache-spark/1.5.2/libexec/python/pyspark/shell.py\",\n",
    "  \"PYSPARK_SUBMIT_ARGS\": \"pyspark-shell\"\n",
    " }\n",
    "}\n",
    "```\n",
    "\n",
    "This file tells Jupyter exactly how to connect with Spark and Python, in this case using homebrew-installed Spark and Anaconda-installed Python.\n",
    "\n",
    "Note that this is set up for use on my mac laptop, which has more cores available to it than our class VM.  Our class VM already has a file like this under ```/home/vagrant``` and a pySpark notebook available through Jupyter.  Try it, it should work!\n",
    "\n",
    "\n",
    "## Getting started with SparkContext and RDDs\n",
    "\n",
    "Working with Spark, everything goes through a SparkContext object.  It's available (after several seconds of startup time - look at the shell window where you started the Jupyter notebook and you'll see a lot of Spark startup messages) as the object ```sc```:"
   ]
  },
  {
   "cell_type": "code",
   "execution_count": null,
   "metadata": {
    "collapsed": false
   },
   "outputs": [],
   "source": [
    "sc"
   ]
  },
  {
   "cell_type": "markdown",
   "metadata": {},
   "source": [
    "Everything you do with Spark here will go through this object.  It is a feature of pySpark to define and make this available in the shell environment, and the Jupyter kernel makes that available through a notebook.\n",
    "\n",
    "The key construct in Spark is a Resilient Distributed Dataset, or RDD.  An RDD leverages the data- and computing resource-tracking capabilities of the Hadoop infrastructure layer to make a dataset available in RAM.  This is a key enhancement over the Hadoop or broader Map/Reduce model where data for every step of computation comes from disk and returns to disk between steps.  Using RAM like this makes everything go faster.\n",
    "\n",
    "Another key concept in Spark is that it will split up your data and handling the low-level details of mapping, shuffling, and reducing data for you.  Rather than the Hadoop style code we saw previously, Spark introduces a few language constructs that are easy to learn and work with.  Let's go through those basics now.\n",
    "\n",
    "First, let's load up data.  The simplest way is to use the SparkContext to access a text file.  Let's visit our Bikeshare data one last time."
   ]
  },
  {
   "cell_type": "code",
   "execution_count": 1,
   "metadata": {
    "collapsed": false
   },
   "outputs": [
    {
     "name": "stdout",
     "output_type": "stream",
     "text": [
      "-rw-r--r--  1 dchud  EAD\\Domain Users   246M Nov 17 20:55 /Users/dchud/projects/dbplus/bikeshare.csv\r\n"
     ]
    }
   ],
   "source": [
    "!ls -lh /Users/dchud/projects/dbplus/bikeshare.csv"
   ]
  },
  {
   "cell_type": "code",
   "execution_count": 2,
   "metadata": {
    "collapsed": false
   },
   "outputs": [
    {
     "name": "stdout",
     "output_type": "stream",
     "text": [
      " 2583370 33663203 257797920 /Users/dchud/projects/dbplus/bikeshare.csv\r\n"
     ]
    }
   ],
   "source": [
    "!wc /Users/dchud/projects/dbplus/bikeshare.csv"
   ]
  },
  {
   "cell_type": "markdown",
   "metadata": {},
   "source": [
    "This is the combined 2.5M records from 2013 we looked at previously, with the familiar format:"
   ]
  },
  {
   "cell_type": "code",
   "execution_count": 3,
   "metadata": {
    "collapsed": false
   },
   "outputs": [
    {
     "name": "stdout",
     "output_type": "stream",
     "text": [
      "|------------------+---------------+--------------------------------------+-------------------------------------------------------+---------+-------------|\r\n",
      "|  start_date      | end_date      | start_station                        | end_station                                           | bike_id | sub_type    |\r\n",
      "|------------------+---------------+--------------------------------------+-------------------------------------------------------+---------+-------------|\r\n",
      "|  3/31/2013 23:59 | 4/1/2013 0:04 | Massachusetts Ave & Dupont Circle NW | New Hampshire Ave & T St NW [formerly 16th & U St NW] | W00347  | Casual      |\r\n",
      "|  3/31/2013 23:58 | 4/1/2013 7:44 | Massachusetts Ave & Dupont Circle NW | New Hampshire Ave & T St NW [formerly 16th & U St NW] | W00550  | Casual      |\r\n",
      "|  3/31/2013 23:57 | 4/1/2013 0:01 | Crystal City Metro / 18th & Bell St  | 27th & Crystal Dr                                     | W20193  | Casual      |\r\n",
      "|  3/31/2013 23:52 | 4/1/2013 0:08 | Georgia & New Hampshire Ave NW       | 1st & Rhode Island Ave NW                             | W00209  | Subscriber  |\r\n",
      "|------------------+---------------+--------------------------------------+-------------------------------------------------------+---------+-------------|\r\n"
     ]
    }
   ],
   "source": [
    "!head -5 /Users/dchud/projects/dbplus/bikeshare.csv | csvlook"
   ]
  },
  {
   "cell_type": "markdown",
   "metadata": {},
   "source": [
    "To prep the data for use as an RDD, we just need one line:"
   ]
  },
  {
   "cell_type": "code",
   "execution_count": 4,
   "metadata": {
    "collapsed": true
   },
   "outputs": [],
   "source": [
    "rides = sc.textFile('/Users/dchud/projects/dbplus/bikeshare.csv')"
   ]
  },
  {
   "cell_type": "markdown",
   "metadata": {},
   "source": [
    "See how quickly it returned?  That's because (as we learned from Hari, Nisha, and Mokeli) the processing of the data is deferred - we haven't actually done anything with it but prepare it for use as an RDD within Spark.  \n",
    "\n",
    "Let's do something simple first."
   ]
  },
  {
   "cell_type": "code",
   "execution_count": 5,
   "metadata": {
    "collapsed": false
   },
   "outputs": [
    {
     "data": {
      "text/plain": [
       "2583370"
      ]
     },
     "execution_count": 5,
     "metadata": {},
     "output_type": "execute_result"
    }
   ],
   "source": [
    "rides.count()"
   ]
  },
  {
   "cell_type": "markdown",
   "metadata": {},
   "source": [
    "That took a little bit longer.  To see why, we can jump over to the Spark UI.  On my machine right now, it's available at http://161.253.117.35:4041/jobs/ but note that that URL will probably not work for you - it's just local to my machine.\n",
    "\n",
    "### (Explore the Spark UI a little bit)\n",
    "\n",
    "You can find your local Spark UI by examining the text output from the same shell window we looked back at a little while ago.  The one where you started Jupyter and saw all the Spark startup information will now have a bunch of lines about the job we processed.  Scroll back and look for something like this up near the top:\n",
    "\n",
    "  INFO SparkUI: Started SparkUI at http://161.253.117.35:4041/jobs/\n",
    "  \n",
    "Whatever that URL is on your VM, that's where you can find the Spark UI on your host.\n",
    "\n",
    "Reviewing the resulting data from that one simple job -- counting lines -- tells us a lot about what the Hadoop environment and Spark on top of it do automatically for us.  Remember that point about how these tools make it easier for us to write code that uses parallel computing without having to be experts?"
   ]
  },
  {
   "cell_type": "markdown",
   "metadata": {},
   "source": [
    "Let's do something a little more interesting.  This is a CSV file, so let's count ride stations pairs.  To do this we need to map each input line and extract the start and stop station, then we need to reduce that by aggregating the count lines.  Fortunately we can do that with the Python keywords ```map``` (which maps input data to an output), ```filter``` (which selects or filters some data from a larger set based on a test), and ```lambda``` (which defines \"anonymous\" functions inline).  These are common functional programming constructs and date back many, many decades, so they are a natural fit here because the Map/Reduce paradigm itself is a functional model.\n",
    "\n",
    "First, we split up the data rows, our map step."
   ]
  },
  {
   "cell_type": "code",
   "execution_count": 7,
   "metadata": {
    "collapsed": true
   },
   "outputs": [],
   "source": [
    "station_pairs = rides.map(lambda l: l.split(\",\")).map(lambda l: ((l[2], l[3]), 1))"
   ]
  },
  {
   "cell_type": "markdown",
   "metadata": {},
   "source": [
    "Several things to note here:\n",
    "\n",
    " * That was instantaneous.  We haven't computed anything yet - this is \"lazy evaluation\".\n",
    " * ```lambda``` takes an input (here ```l```) and returns a result (here the split array once, then a tuple of the two station names with a counter, 1).  It's like you're defining a function right in the middle of other code and not giving it a name.  That's why they're called \"anonymous\" or \"inline\" functions.\n",
    " * We are chaining two ```map``` commands together.  This should look familiar - it's just like piping.\n",
    " \n",
    "This leaves us with a mapped data structure that needs to be reduced."
   ]
  },
  {
   "cell_type": "code",
   "execution_count": 8,
   "metadata": {
    "collapsed": false
   },
   "outputs": [
    {
     "data": {
      "text/plain": [
       "[((u'Smithsonian / Jefferson Dr & 12th St SW',\n",
       "   u'Smithsonian / Jefferson Dr & 12th St SW'),\n",
       "  5138),\n",
       " ((u'Lincoln Memorial', u'Jefferson Memorial'), 5012),\n",
       " ((u'Eastern Market Metro / Pennsylvania Ave & 7th St SE',\n",
       "   u'Lincoln Park / 13th & East Capitol St NE '),\n",
       "  4962),\n",
       " ((u'Lincoln Park / 13th & East Capitol St NE ',\n",
       "   u'Eastern Market Metro / Pennsylvania Ave & 7th St SE'),\n",
       "  4740),\n",
       " ((u'Jefferson Dr & 14th St SW', u'Jefferson Dr & 14th St SW'), 4709),\n",
       " ((u'Lincoln Memorial', u'Lincoln Memorial'), 4130),\n",
       " ((u'Lincoln Memorial', u'Jefferson Dr & 14th St SW'), 3973),\n",
       " ((u'Jefferson Dr & 14th St SW', u'Lincoln Memorial'), 3683),\n",
       " ((u'15th & P St NW', u'Massachusetts Ave & Dupont Circle NW'), 3675),\n",
       " ((u'Massachusetts Ave & Dupont Circle NW', u'15th & P St NW'), 3538)]"
      ]
     },
     "execution_count": 8,
     "metadata": {},
     "output_type": "execute_result"
    }
   ],
   "source": [
    "from operator import add\n",
    "station_counts = station_pairs.reduceByKey(add).takeOrdered(10, key=lambda (k, v): -v)\n",
    "station_counts"
   ]
  },
  {
   "cell_type": "markdown",
   "metadata": {},
   "source": [
    "(look at the Spark UI again for this job!)\n",
    "\n",
    "There we go, the counts of station pairs.  Lots of people riding around the mall, and from Eastern Market to Lincoln Park (my neighborhood!).\n",
    "\n",
    "What just happened?\n",
    "\n",
    "  * We imported the ```add``` operation for use as a parameter to ```reduceByKey```\n",
    "  * ```reduceByKey``` is a Spark verb that lets us reduce mapped data, in this case, something like a ```GROUP BY``` operation, where we operate on the RDD provided using the function passed in as a parameter:  ```add```\n",
    "  * We finally execute the whole operation with ```takeOrdered```, which invokes the full computation and takes the top 10 results.\n",
    "  * We calculate the top 10 with the anonymous sort key function ```lambda (k, v): -v``` which returns a descending sort result set of the added up key/count pairs.\n",
    "  * We show the result, ```station_counts```\n",
    "  \n",
    "There we go!  We just computed something using Hadoop and Spark.  \n",
    "\n",
    "Of course we can do the same thing with ```csvcut | sort | uniq -c | sort -rn | head```, right?"
   ]
  },
  {
   "cell_type": "code",
   "execution_count": 6,
   "metadata": {
    "collapsed": false
   },
   "outputs": [
    {
     "name": "stdout",
     "output_type": "stream",
     "text": [
      "5138 Smithsonian / Jefferson Dr & 12th St SW,Smithsonian / Jefferson Dr & 12th St SW\r\n",
      "5012 Lincoln Memorial,Jefferson Memorial\r\n",
      "4962 Eastern Market Metro / Pennsylvania Ave & 7th St SE,Lincoln Park / 13th & East Capitol St NE \r\n",
      "4740 Lincoln Park / 13th & East Capitol St NE ,Eastern Market Metro / Pennsylvania Ave & 7th St SE\r\n",
      "4709 Jefferson Dr & 14th St SW,Jefferson Dr & 14th St SW\r\n",
      "4130 Lincoln Memorial,Lincoln Memorial\r\n",
      "3973 Lincoln Memorial,Jefferson Dr & 14th St SW\r\n",
      "3683 Jefferson Dr & 14th St SW,Lincoln Memorial\r\n",
      "3675 15th & P St NW,Massachusetts Ave & Dupont Circle NW\r\n",
      "3538 Massachusetts Ave & Dupont Circle NW,15th & P St NW\r\n",
      "sort: write failed: standard output: Broken pipe\r\n",
      "sort: write error\r\n"
     ]
    }
   ],
   "source": [
    "!csvcut -c3,4 /Users/dchud/projects/dbplus/bikeshare.csv | sort | uniq -c | sort -rn | head"
   ]
  },
  {
   "cell_type": "markdown",
   "metadata": {},
   "source": [
    "Which took longer?  \n",
    "\n",
    "Why?"
   ]
  },
  {
   "cell_type": "markdown",
   "metadata": {},
   "source": [
    "## Computing some numbers\n",
    "\n",
    "Counting is well and good, but let's do a little math and get some basic descriptive statistics.  Let's parse the datetime strings and compute a minute count, then find what the central tendencies of the duration might be."
   ]
  },
  {
   "cell_type": "code",
   "execution_count": 9,
   "metadata": {
    "collapsed": false
   },
   "outputs": [
    {
     "data": {
      "text/plain": [
       "datetime.datetime(2013, 3, 31, 23, 51)"
      ]
     },
     "execution_count": 9,
     "metadata": {},
     "output_type": "execute_result"
    }
   ],
   "source": [
    "from datetime import datetime\n",
    "def get_date(s):\n",
    "    return datetime.strptime(s, '%m/%d/%Y %H:%M')\n",
    "\n",
    "get_date('3/31/2013 23:51')"
   ]
  },
  {
   "cell_type": "markdown",
   "metadata": {},
   "source": [
    "Great.  Now to compute the duration in minutes, which we'll get in seconds from a datediff, then divide by 60."
   ]
  },
  {
   "cell_type": "code",
   "execution_count": 10,
   "metadata": {
    "collapsed": false
   },
   "outputs": [
    {
     "data": {
      "text/plain": [
       "8"
      ]
     },
     "execution_count": 10,
     "metadata": {},
     "output_type": "execute_result"
    }
   ],
   "source": [
    "def get_duration(start, stop):\n",
    "    start_date = get_date(start)\n",
    "    stop_date = get_date(stop)\n",
    "    return (stop_date - start_date).seconds / 60\n",
    "\n",
    "get_duration('3/31/2013 23:51', '3/31/2013 23:59')"
   ]
  },
  {
   "cell_type": "markdown",
   "metadata": {},
   "source": [
    "See how we composed a broader function from a smaller element we defined first?  Just like the UNIX philosophy says - building complex pieces up from simpler building blocks, we can do the same with our code.\n",
    "\n",
    "Next we need to reach for [Spark Statistics](http://spark.apache.org/docs/latest/mllib-statistics.html):"
   ]
  },
  {
   "cell_type": "code",
   "execution_count": 12,
   "metadata": {
    "collapsed": false
   },
   "outputs": [],
   "source": [
    "import numpy as np\n",
    "from pyspark.mllib.stat import Statistics"
   ]
  },
  {
   "cell_type": "markdown",
   "metadata": {},
   "source": [
    "To generate summary statistics, we need to first create a vector of data, in this case our duration counts.\n",
    "\n",
    "First we need a little trick to skip the first line, our header row."
   ]
  },
  {
   "cell_type": "code",
   "execution_count": 11,
   "metadata": {
    "collapsed": false
   },
   "outputs": [],
   "source": [
    "header = rides.first()\n",
    "rides = rides.filter(lambda x: x != header) "
   ]
  },
  {
   "cell_type": "markdown",
   "metadata": {},
   "source": [
    "Next we have to get our durations from the source data.  Note that we next have to wrap these in NumPy vectors."
   ]
  },
  {
   "cell_type": "code",
   "execution_count": 13,
   "metadata": {
    "collapsed": false
   },
   "outputs": [
    {
     "data": {
      "text/plain": [
       "[array([5]), array([466]), array([4]), array([16]), array([6])]"
      ]
     },
     "execution_count": 13,
     "metadata": {},
     "output_type": "execute_result"
    }
   ],
   "source": [
    "durations = rides.map(lambda l: l.split(\",\")).map(lambda l: np.array([get_duration(l[0], l[1])]))\n",
    "durations.take(5)"
   ]
  },
  {
   "cell_type": "markdown",
   "metadata": {},
   "source": [
    "Now we just feed that to our Summarizer:"
   ]
  },
  {
   "cell_type": "code",
   "execution_count": 14,
   "metadata": {
    "collapsed": false
   },
   "outputs": [
    {
     "name": "stdout",
     "output_type": "stream",
     "text": [
      "[ 17.09474643]\n",
      "[ 1002.77866119]\n",
      "[ 2564710.]\n"
     ]
    }
   ],
   "source": [
    "summary = Statistics.colStats(durations)\n",
    "print(summary.mean())\n",
    "print(summary.variance())\n",
    "print(summary.numNonzeros())"
   ]
  }
 ],
 "metadata": {
  "kernelspec": {
   "display_name": "pySpark (Spark 1.5.2)",
   "language": "python",
   "name": "pyspark"
  },
  "language_info": {
   "codemirror_mode": {
    "name": "ipython",
    "version": 2
   },
   "file_extension": ".py",
   "mimetype": "text/x-python",
   "name": "python",
   "nbconvert_exporter": "python",
   "pygments_lexer": "ipython2",
   "version": "2.7.10"
  }
 },
 "nbformat": 4,
 "nbformat_minor": 0
}
