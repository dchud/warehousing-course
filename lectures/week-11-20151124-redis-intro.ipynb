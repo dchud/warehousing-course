{
 "cells": [
  {
   "cell_type": "markdown",
   "metadata": {},
   "source": [
    "# A brief tour of Redis\n",
    "\n",
    "A one-hour or less tour of [Redis](http://redis.io/).\n",
    "\n",
    "tl:dr version:\n",
    "\n",
    "  * If you don't have time to read/run this, go to [Try Redis](http://try.redis.io/) and try it yourself.\n",
    "  * Redis is a *data structure server*. Not quite a database, not quite a key-value store.\n",
    "  * It is very fast and is a great tool for rapid analysis and other cases when you need something more than \"just python\" or \"just R\" but don't want to take the time to define and implement an RDBMS schema, etc.\n",
    "  * You have it on your VM.\n",
    "  \n",
    "Redis stands for **RE**mote **DI**ctionary **S**erver.  The [Try Redis](http://try.redis.io/) app is easy for a quick tour; for a few more details, read the [introduction to data types](http://redis.io/topics/data-types-intro).\n",
    "\n",
    "  \n",
    "  \n",
    "## Getting started\n",
    "\n",
    "Redis is a server process that you connect to with a client.  On your VM, you can start it with the ```redis-server``` command, but it's best to run it in its own terminal, or to start it with the server.\n",
    "\n",
    "For our VM, the server is already running.  You just need to connect to it with a client.  You can do this in the shell using ```redis-cli```, at which point you can send and receive commands directly to Redis.\n",
    "\n",
    "Here, though, let's use it with Python.  We'll probably want some of Python's other facilities to read files, control flow, manage variables, etc.\n",
    "\n",
    "**Note**: this is a python 2 notebook."
   ]
  },
  {
   "cell_type": "code",
   "execution_count": null,
   "metadata": {
    "collapsed": false
   },
   "outputs": [],
   "source": [
    "import redis"
   ]
  },
  {
   "cell_type": "markdown",
   "metadata": {},
   "source": [
    "**Note**: If this happens to you, just do this in the shell:\n",
    "\n",
    "    % sudo apt-get install python-redis\n",
    "    \n",
    "(Your password is \"vagrant\".)"
   ]
  },
  {
   "cell_type": "code",
   "execution_count": null,
   "metadata": {
    "collapsed": false
   },
   "outputs": [],
   "source": [
    "import redis"
   ]
  },
  {
   "cell_type": "markdown",
   "metadata": {},
   "source": [
    "Remember we need to connect to the server, using Python as the client, just like we would connect to a database server.  This will connect using the default port and host, which the Redis server on our VMs uses."
   ]
  },
  {
   "cell_type": "code",
   "execution_count": null,
   "metadata": {
    "collapsed": false
   },
   "outputs": [],
   "source": [
    "r = redis.StrictRedis()"
   ]
  },
  {
   "cell_type": "markdown",
   "metadata": {},
   "source": [
    "The simplest use of Redis is as a **key-value store**.  We can use the ```get``` and ```set``` commands to stash values for arbitrary keys."
   ]
  },
  {
   "cell_type": "code",
   "execution_count": null,
   "metadata": {
    "collapsed": false
   },
   "outputs": [],
   "source": [
    "r.set('hi', 5)"
   ]
  },
  {
   "cell_type": "code",
   "execution_count": null,
   "metadata": {
    "collapsed": false
   },
   "outputs": [],
   "source": [
    "r.get('hi')"
   ]
  },
  {
   "cell_type": "code",
   "execution_count": null,
   "metadata": {
    "collapsed": false
   },
   "outputs": [],
   "source": [
    "r.get('bye')"
   ]
  },
  {
   "cell_type": "code",
   "execution_count": null,
   "metadata": {
    "collapsed": false
   },
   "outputs": [],
   "source": [
    "r.set('bye', 500)"
   ]
  },
  {
   "cell_type": "code",
   "execution_count": null,
   "metadata": {
    "collapsed": false
   },
   "outputs": [],
   "source": [
    "r.get('bye')"
   ]
  },
  {
   "cell_type": "markdown",
   "metadata": {},
   "source": [
    "Not particularly fancy, but useful.\n",
    "\n",
    "Why is this different from just using Python variables?  For one thing, it's a server, so you can have multiple clients connecting."
   ]
  },
  {
   "cell_type": "code",
   "execution_count": null,
   "metadata": {
    "collapsed": false
   },
   "outputs": [],
   "source": [
    "r2 = redis.StrictRedis()\n",
    "r2.get('bye')"
   ]
  },
  {
   "cell_type": "code",
   "execution_count": null,
   "metadata": {
    "collapsed": false
   },
   "outputs": [],
   "source": [
    "r2.set('new key', 10)"
   ]
  },
  {
   "cell_type": "code",
   "execution_count": null,
   "metadata": {
    "collapsed": false
   },
   "outputs": [],
   "source": [
    "r.get('new key')"
   ]
  },
  {
   "cell_type": "markdown",
   "metadata": {},
   "source": [
    "```r``` and ```r2``` could be different programs, or different users, or different languages.  Much like a full RDBMS environment, the server backend supports multiple concurrent users.  Unlike an RDBMS, though, Redis doesn't have the same sophisticated notion of access controls, so any connecting client can access, change, or delete data.\n",
    "\n",
    "## More than just keys and values - basic data structures\n",
    "\n",
    "Just storing keys and values on a server still isn't terribly exciting.  Keep in mind that Redis is a data structure server.  With that in mind, it's more interesting to look at some of its data structures, such as counters, which (unsurprisingly) track and update counts of things."
   ]
  },
  {
   "cell_type": "code",
   "execution_count": null,
   "metadata": {
    "collapsed": false
   },
   "outputs": [],
   "source": [
    "r.get('hi')"
   ]
  },
  {
   "cell_type": "code",
   "execution_count": null,
   "metadata": {
    "collapsed": false
   },
   "outputs": [],
   "source": [
    "# increment the key 'hi'\n",
    "r.incr('hi')"
   ]
  },
  {
   "cell_type": "code",
   "execution_count": null,
   "metadata": {
    "collapsed": false
   },
   "outputs": [],
   "source": [
    "r.incr('hi')"
   ]
  },
  {
   "cell_type": "code",
   "execution_count": null,
   "metadata": {
    "collapsed": false
   },
   "outputs": [],
   "source": [
    "r.incr('hi', 20)"
   ]
  },
  {
   "cell_type": "code",
   "execution_count": null,
   "metadata": {
    "collapsed": false
   },
   "outputs": [],
   "source": [
    "r.decr('hi')"
   ]
  },
  {
   "cell_type": "code",
   "execution_count": null,
   "metadata": {
    "collapsed": false
   },
   "outputs": [],
   "source": [
    "r.decr('hi', 3)"
   ]
  },
  {
   "cell_type": "code",
   "execution_count": null,
   "metadata": {
    "collapsed": false
   },
   "outputs": [],
   "source": [
    "r.get('hi')"
   ]
  },
  {
   "cell_type": "markdown",
   "metadata": {},
   "source": [
    "Internally, Redis stores strings, so keep in mind that you'll have to cast values before doing math."
   ]
  },
  {
   "cell_type": "code",
   "execution_count": null,
   "metadata": {
    "collapsed": false
   },
   "outputs": [],
   "source": [
    "r.get('hi') * 5"
   ]
  },
  {
   "cell_type": "code",
   "execution_count": null,
   "metadata": {
    "collapsed": false
   },
   "outputs": [],
   "source": [
    "int(r.get('hi')) * 5"
   ]
  },
  {
   "cell_type": "markdown",
   "metadata": {},
   "source": [
    "Counters are just the beginning.  Next, we have sets:"
   ]
  },
  {
   "cell_type": "code",
   "execution_count": null,
   "metadata": {
    "collapsed": false
   },
   "outputs": [],
   "source": [
    "r.sadd('my set', 'thing one')"
   ]
  },
  {
   "cell_type": "code",
   "execution_count": null,
   "metadata": {
    "collapsed": false
   },
   "outputs": [],
   "source": [
    "r.sadd('my set', 'thing two', 'thing three', 'something else')"
   ]
  },
  {
   "cell_type": "code",
   "execution_count": null,
   "metadata": {
    "collapsed": false
   },
   "outputs": [],
   "source": [
    "r.smembers('my set')"
   ]
  },
  {
   "cell_type": "code",
   "execution_count": null,
   "metadata": {
    "collapsed": false
   },
   "outputs": [],
   "source": [
    "r.sadd('another set', 'thing two', 'thing three', 55, 'thing six')"
   ]
  },
  {
   "cell_type": "code",
   "execution_count": null,
   "metadata": {
    "collapsed": false
   },
   "outputs": [],
   "source": [
    "r.smembers('another set')"
   ]
  },
  {
   "cell_type": "code",
   "execution_count": null,
   "metadata": {
    "collapsed": false
   },
   "outputs": [],
   "source": [
    "r.sinter('my set', 'another set')"
   ]
  },
  {
   "cell_type": "code",
   "execution_count": null,
   "metadata": {
    "collapsed": false
   },
   "outputs": [],
   "source": [
    "r.sunion('my set', 'another set')"
   ]
  },
  {
   "cell_type": "markdown",
   "metadata": {},
   "source": [
    "And it's python, so we can do obvious things like:"
   ]
  },
  {
   "cell_type": "code",
   "execution_count": null,
   "metadata": {
    "collapsed": false
   },
   "outputs": [],
   "source": [
    "len(r.smembers('my set'))"
   ]
  },
  {
   "cell_type": "code",
   "execution_count": null,
   "metadata": {
    "collapsed": false
   },
   "outputs": [],
   "source": [
    "[x.upper() for x in r.smembers('my set')]"
   ]
  },
  {
   "cell_type": "markdown",
   "metadata": {},
   "source": [
    "See what's going on here?  Redis stores data structures as a server, but you can still manipulate those structures as if there were any other python variable.  The differences are that they live on the server, so can be shared, and that this requires communication overhead between the client and the server.\n",
    "\n",
    "So doesn't that slow things down?  Doesn't python already have a ```set()``` built-in type?  (Yes, it does.)  Why is it worth the overhead?\n",
    "\n",
    "\n",
    "## More interesting data structures\n",
    "\n",
    "More interesting, perhaps, are sorted sets."
   ]
  },
  {
   "cell_type": "code",
   "execution_count": null,
   "metadata": {
    "collapsed": false
   },
   "outputs": [],
   "source": [
    "r.zadd('sorted', 5, 'blue')\n",
    "r.zadd('sorted', 3, 'red')\n",
    "r.zadd('sorted', 7, 'purple')\n",
    "r.zadd('sorted', 10, 'pink')\n",
    "r.zadd('sorted', 6, 'grey')"
   ]
  },
  {
   "cell_type": "code",
   "execution_count": null,
   "metadata": {
    "collapsed": false
   },
   "outputs": [],
   "source": [
    "r.zrangebyscore('sorted', 0, 10)"
   ]
  },
  {
   "cell_type": "code",
   "execution_count": null,
   "metadata": {
    "collapsed": false
   },
   "outputs": [],
   "source": [
    "r.zrevrangebyscore('sorted', 100, 0, withscores=True)"
   ]
  },
  {
   "cell_type": "code",
   "execution_count": null,
   "metadata": {
    "collapsed": false
   },
   "outputs": [],
   "source": [
    "r.zrank('sorted', 'red')`"
   ]
  },
  {
   "cell_type": "code",
   "execution_count": null,
   "metadata": {
    "collapsed": false
   },
   "outputs": [],
   "source": [
    "r.zincrby('sorted', 'red', 5)"
   ]
  },
  {
   "cell_type": "code",
   "execution_count": null,
   "metadata": {
    "collapsed": false
   },
   "outputs": [],
   "source": [
    "r.zrevrangebyscore('sorted', 100, 0, withscores=True)"
   ]
  },
  {
   "cell_type": "code",
   "execution_count": null,
   "metadata": {
    "collapsed": false
   },
   "outputs": [],
   "source": [
    "r.zrank('sorted', 'red')"
   ]
  },
  {
   "cell_type": "markdown",
   "metadata": {},
   "source": [
    "Here we've created a set that stores scores and automatically sorts the set members by scores.  You can add new items or update the scores at any time, and fetch the rank order as well.  Think \"top ten anything\"."
   ]
  },
  {
   "cell_type": "markdown",
   "metadata": {},
   "source": [
    "## A note on keys\n",
    "\n",
    "The keys we used are named as you wish.  So, for example, you can define key naming conventions that, for example, add identifiers to the keys for easy programmatic use.  Let's say you're churning through a log of product sales orders and want to count the top sales for a given hour."
   ]
  },
  {
   "cell_type": "code",
   "execution_count": null,
   "metadata": {
    "collapsed": false
   },
   "outputs": [],
   "source": [
    "r.zadd('sales:10pm', 3, 'p1')\n",
    "r.zadd('sales:10pm', 1, 'p3')\n",
    "r.zadd('sales:10pm', 12, 'p1')\n",
    "r.zadd('sales:10pm', 5, 'p2')\n",
    "r.zadd('sales:11pm', 4, 'p1')\n",
    "r.zadd('sales:11pm', 8, 'p2')\n",
    "r.zadd('sales:11pm', 5, 'p2')\n",
    "r.zadd('sales:11pm', 2, 'p1')\n",
    "r.zadd('sales:11pm', 7, 'p1')"
   ]
  },
  {
   "cell_type": "markdown",
   "metadata": {},
   "source": [
    "```csvkit``` alone won't do the math for you, though csvsql could help.  You could load your orders into R and do it, but perhaps you don't remember R and dplyr commands.  In a little loop of python, you can throw all this data at Redis and it will return answers to useful questions."
   ]
  },
  {
   "cell_type": "code",
   "execution_count": null,
   "metadata": {
    "collapsed": false
   },
   "outputs": [],
   "source": [
    "r.zrevrangebyscore('sales:10pm', 100, 0, withscores=True)"
   ]
  },
  {
   "cell_type": "code",
   "execution_count": null,
   "metadata": {
    "collapsed": false
   },
   "outputs": [],
   "source": [
    "r.zrevrangebyscore('sales:11pm', 100, 0, withscores=True)"
   ]
  },
  {
   "cell_type": "code",
   "execution_count": null,
   "metadata": {
    "collapsed": false
   },
   "outputs": [],
   "source": [
    "r.zunionstore('sales:combined', ['sales:10pm', 'sales:11pm'])"
   ]
  },
  {
   "cell_type": "code",
   "execution_count": null,
   "metadata": {
    "collapsed": false
   },
   "outputs": [],
   "source": [
    "r.zrevrangebyscore('sales:combined', 100, 0, withscores=True)"
   ]
  },
  {
   "cell_type": "markdown",
   "metadata": {},
   "source": [
    "Starting to get pretty cool, right?\n",
    "\n",
    "\n",
    "## A practical example\n",
    "\n",
    "Let's look at something more concrete, using a familiar source: bikeshare data.  What if we want to count station use and track bike movements?"
   ]
  },
  {
   "cell_type": "code",
   "execution_count": null,
   "metadata": {
    "collapsed": false
   },
   "outputs": [],
   "source": [
    "import csv\n",
    "\n",
    "MAX_COUNT = 10000\n",
    "count = 0\n",
    "fp = open('bikeshare-q1.csv', 'rb')\n",
    "reader = csv.DictReader(fp)"
   ]
  },
  {
   "cell_type": "code",
   "execution_count": null,
   "metadata": {
    "collapsed": false
   },
   "outputs": [],
   "source": [
    "while count < MAX_COUNT:\n",
    "    ride = reader.next()\n",
    "    r.zincrby('start_station', ride['start_station'], 1)\n",
    "    r.zincrby('end_station', ride['end_station'], 1)\n",
    "    r.rpush('bike:%s' % ride['bike_id'], ride['end_station'])\n",
    "    count += 1"
   ]
  },
  {
   "cell_type": "code",
   "execution_count": null,
   "metadata": {
    "collapsed": false
   },
   "outputs": [],
   "source": [
    "r.zrevrangebyscore('start_station', 10000, 0, start=0, num=10, withscores=True, score_cast_func=int)"
   ]
  },
  {
   "cell_type": "code",
   "execution_count": null,
   "metadata": {
    "collapsed": false
   },
   "outputs": [],
   "source": [
    "print 'last bike seen:', ride['bike_id']\n",
    "r.lrange('bike:%s' % ride['bike_id'], 0, 50)"
   ]
  },
  {
   "cell_type": "markdown",
   "metadata": {},
   "source": [
    "## Some final thoughts\n",
    "\n",
    "This is just scratching the surface.  There are Redis [client libraries](http://redis.io/clients) for most major language you might use.  The Redis [docs](http://redis.io/documentation) include many more data structure types, including some very sophisticated ones, few of which you would want to code up yourselves.  The docs also go into detail about getting a ton of performance out of Redis with a few short tips (the example above was way slower than Redis normally is!).  Keep in mind that Redis runs in **memory**, so you have to be thoughtful about what you want to persist if you want data to stick around after a restart (see the docs for more).  And Redis can be used for very different kinds of models, like [pub/sub](http://redis.io/topics/pubsub) for inter-process communication.  It works very well for this.  It's also a useful backend for queueing (see [RQ](http://python-rq.org/) or [Celery](http://docs.celeryproject.org/en/latest/getting-started/brokers/redis.html) for examples), another easy-to-understand distributed processing framework."
   ]
  }
 ],
 "metadata": {
  "kernelspec": {
   "display_name": "Python 2",
   "language": "python",
   "name": "python2"
  },
  "language_info": {
   "codemirror_mode": {
    "name": "ipython",
    "version": 2
   },
   "file_extension": ".py",
   "mimetype": "text/x-python",
   "name": "python",
   "nbconvert_exporter": "python",
   "pygments_lexer": "ipython2",
   "version": "2.7.6"
  }
 },
 "nbformat": 4,
 "nbformat_minor": 0
}
